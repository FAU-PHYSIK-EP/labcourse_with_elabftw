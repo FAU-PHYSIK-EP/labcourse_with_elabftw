{
 "cells": [
  {
   "cell_type": "code",
   "execution_count": null,
   "id": "017cce7a",
   "metadata": {},
   "outputs": [],
   "source": [
    "import pyelabtools as elab\n",
    "import pandas as pd\n",
    "import yaml\n",
    "import json"
   ]
  },
  {
   "cell_type": "code",
   "execution_count": null,
   "id": "259c925f",
   "metadata": {},
   "outputs": [],
   "source": [
    "# Column assignment of the csv file with user data from the registration webpage\n",
    "COLUMN_GROUP = 'Id'\n",
    "COLUMN_FIRSTNAME = 'Firstname'\n",
    "COLUMN_LASTNAME = 'Lastname'\n",
    "COLUMN_EMAIL = 'Email'\n",
    "\n",
    "# Further definitions\n",
    "GROUPNAME_PREFIX = 'DemoLab SoSe 2024'\n",
    "GROUPNAME_TUTORS = 'Tutors'"
   ]
  },
  {
   "cell_type": "markdown",
   "id": "102bbf82",
   "metadata": {},
   "source": [
    "# Configuration"
   ]
  },
  {
   "cell_type": "code",
   "execution_count": null,
   "id": "fc23fa6b",
   "metadata": {},
   "outputs": [],
   "source": [
    "# Server and API data for eLabFTW\n",
    "API_HOST_URL = 'https://your_elabftw_url/api/v2'\n",
    "# an API key with read/write permissions is required that was generated in the eLabFTW team of the lab course\n",
    "API_KEY = 'your_api_key' \n",
    "\n",
    "# csv file with user data from the registration webpage\n",
    "FILE_STUDENTDATA = 'registrations.csv'\n",
    "\n",
    "# csv file with user data of the tutors\n",
    "FILE_TUTORDATA = 'tutors.csv'\n",
    "\n",
    "# File with definition of all lab course experiments\n",
    "FILE_EXPERIMENTS = 'demolab_experiments.yaml'"
   ]
  },
  {
   "cell_type": "markdown",
   "id": "d151b14d",
   "metadata": {},
   "source": [
    "# Connect to eLabFTW"
   ]
  },
  {
   "cell_type": "code",
   "execution_count": null,
   "id": "254b0961",
   "metadata": {},
   "outputs": [],
   "source": [
    "# Connect to eLabFTW\n",
    "elab.connect(API_HOST_URL, API_KEY)\n",
    "\n",
    "# Read and display the team that is related to the API key; this team is used for setting up the lab course structure\n",
    "team = elab.get_currentteam()\n",
    "print(f\"Team related to the API key: {team.name} (elabftw_teamid = {team.id})\")"
   ]
  },
  {
   "cell_type": "markdown",
   "id": "2a046aea",
   "metadata": {},
   "source": [
    "# Create users and groups"
   ]
  },
  {
   "cell_type": "code",
   "execution_count": null,
   "id": "0e8db9dc",
   "metadata": {},
   "outputs": [],
   "source": [
    "# Students:\n",
    "# Read the file with user data and display the student groups\n",
    "# In this step, nothing will be written into the ELN\n",
    "registrationdata = pd.read_csv(FILE_STUDENTDATA, delimiter=';')\n",
    "\n",
    "groups = {}\n",
    "users = {}\n",
    "\n",
    "# Read users and groups\n",
    "for registration in registrationdata.iterrows():\n",
    "    groupno = registration[1][COLUMN_GROUP]\n",
    "    groupname = GROUPNAME_PREFIX + ' G' + str(groupno).zfill(3)\n",
    "    groups[groupno] = {'groupname': groupname, 'members': []}\n",
    "    for i in [1, 2]:\n",
    "        email = registration[1][COLUMN_EMAIL+str(i)]\n",
    "        if email in users.keys():\n",
    "            print(f\"Warning: duplicate registration of {email}\")\n",
    "        users[email] = {'lastname': registration[1][COLUMN_LASTNAME+str(i)], \n",
    "                        'firstname': registration[1][COLUMN_FIRSTNAME+str(i)],\n",
    "                        'email': email}\n",
    "        groups[groupno]['members'].append(email)\n",
    "    \n",
    "# Show all lab course registrations\n",
    "print('Listing registrations read from file ...')\n",
    "for groupno, groupdata in groups.items():\n",
    "    print()\n",
    "    print(f\"Group number: {groupno}\")\n",
    "    print(f\"Group name: {groupdata['groupname']}\")\n",
    "    for member in groupdata['members']:\n",
    "        print(f\"- {users[member]['lastname']}, {users[member]['firstname']}, {users[member]['email']}\")"
   ]
  },
  {
   "cell_type": "code",
   "execution_count": null,
   "id": "83bd45b5-4df9-4e4b-9850-d06051e3eff5",
   "metadata": {},
   "outputs": [],
   "source": [
    "# Tutors:\n",
    "# Read the file with user data and display the tutors\n",
    "# In this step, nothing will be written into the ELN\n",
    "registrationdata = pd.read_csv(FILE_TUTORDATA, delimiter=';')\n",
    "\n",
    "# Create tutor group\n",
    "groupno = 0\n",
    "groupname = GROUPNAME_PREFIX + ' ' + GROUPNAME_TUTORS\n",
    "groups[groupno] = {'groupname': groupname, 'members': []}\n",
    "\n",
    "# Read users\n",
    "for registration in registrationdata.iterrows():\n",
    "    email = registration[1][COLUMN_EMAIL]\n",
    "    if email in users.keys():\n",
    "        print(f\"Warning: duplicate registration of {email}\")\n",
    "    users[email] = {'lastname': registration[1][COLUMN_LASTNAME], \n",
    "                    'firstname': registration[1][COLUMN_FIRSTNAME],\n",
    "                    'email': email}\n",
    "    groups[groupno]['members'].append(email)\n",
    "    \n",
    "# Show all tutors\n",
    "print('Listing tutors read from file ...')\n",
    "groupdata = groups[groupno]\n",
    "print()\n",
    "print(f\"Group number: {groupno}\")\n",
    "print(f\"Group name: {groupdata['groupname']}\")\n",
    "for member in groupdata['members']:\n",
    "    print(f\"- {users[member]['lastname']}, {users[member]['firstname']}, {users[member]['email']}\")"
   ]
  },
  {
   "cell_type": "code",
   "execution_count": null,
   "id": "16d9bc73",
   "metadata": {},
   "outputs": [],
   "source": [
    "# Create users and usergroups in eLabFTW\n",
    "selectedgroups = []\n",
    "mode = 'all' # 'all' or 'include' or 'exclude' groups listed in selectedgroups (list of numerical group numbers)\n",
    "\n",
    "print('Accessing eLabFTW ...')\n",
    "for groupno, groupdata in groups.items():\n",
    "    if (mode == 'all') or (mode == 'include' and groupno in selectedgroups) or (mode == 'exclude' and groupno not in selectedgroups):\n",
    "        groupid = elab.create_group(groupdata['groupname'])  \n",
    "        print()\n",
    "        print(f\"{groupdata['groupname']} >> elabftw_groupid = {groupid}\")\n",
    "        for member in groupdata['members']:\n",
    "            userid = elab.create_user_in_team(users[member]['firstname'], users[member]['lastname'], users[member]['email'])\n",
    "            print(f\"- {users[member]['lastname']}, {users[member]['firstname']}, {users[member]['email']} >> elabftw_userid = {userid}\")\n",
    "            elab.add_user_to_group(groupid, userid)\n",
    "\n",
    "print()\n",
    "print('Done.')"
   ]
  },
  {
   "cell_type": "markdown",
   "id": "08241177",
   "metadata": {},
   "source": [
    "# Create lab course days and experiments\n",
    "\n",
    "Structure and experiments of the lab course are defined in a yaml file."
   ]
  },
  {
   "cell_type": "code",
   "execution_count": null,
   "id": "49c6869d",
   "metadata": {},
   "outputs": [],
   "source": [
    "# Make changes only for specific groups, lab course days or experiments\n",
    "\n",
    "# Groups (None = all groups, [1, 2] = only groups 1 and 2)\n",
    "limitgroups = None\n",
    "\n",
    "# Lab course days (None = all lab course days, ['labcourseday_1'] = only labcourseday 1)\n",
    "limitlabcoursedays = None\n",
    "\n",
    "# Experiments (None = all experiments, ['experiment_1.1'] = only experiment 1.1)\n",
    "limitexperiments = None"
   ]
  },
  {
   "cell_type": "code",
   "execution_count": null,
   "id": "74626b4f",
   "metadata": {},
   "outputs": [],
   "source": [
    "# Load from file and display the lab course structure and experiments\n",
    "# In this step, nothing will be written into the ELN\n",
    "\n",
    "with open(FILE_EXPERIMENTS, 'r', encoding='utf8') as f:\n",
    "    config = yaml.full_load(f)\n",
    "    \n",
    "# Show lab course structure and experiments\n",
    "print(\"Displaying lab course structure and experiments ...\")\n",
    "print()\n",
    "\n",
    "print(\"Categories:\")\n",
    "for category in config['categories']:\n",
    "    print(f\"- {category['name']} [color: {category['color']}{(', default' if 'default' in category.keys() and category['default'] else '')}]\")\n",
    "print()\n",
    "\n",
    "print(\"Statuses:\")\n",
    "for status in config['statuses']:\n",
    "    print(f\"- {status['name']} [color: {status['color']}{(', default' if 'default' in status.keys() and status['default'] else '')}]\")\n",
    "print()\n",
    "\n",
    "print(\"Templates used for experiments:\")\n",
    "for key, template in config['templates'].items():\n",
    "    print(f\"- {key}: {template['name']} [file: {template['file']}]\")\n",
    "print()\n",
    "\n",
    "for labcourseday in config['labcoursedays'].values():\n",
    "    print(f\"{labcourseday['name']} [tag = {labcourseday['tag']}, template = {labcourseday['template']}]\")\n",
    "    for experiment in labcourseday['experiments'].values():\n",
    "        print(f\"- {experiment['name']} [template = {experiment['template']}]\")"
   ]
  },
  {
   "cell_type": "code",
   "execution_count": null,
   "id": "4da969ca-e0d2-437c-8d1f-48c99851aa4c",
   "metadata": {},
   "outputs": [],
   "source": [
    "# Create categories and statuses in eLabFTW\n",
    "\n",
    "print(\"Accessing eLabFTW ...\")\n",
    "print()\n",
    "\n",
    "print(\"Delete all existing categories and statuses:\")\n",
    "elab.delete_all_experiment_categories()\n",
    "elab.delete_all_experiment_statuses()\n",
    "print(\"Done.\")\n",
    "print()\n",
    "\n",
    "print(\"Create categories:\")\n",
    "for category in config['categories']:\n",
    "    name = category['name']\n",
    "    color = category['color']\n",
    "    default = True if 'default' in category.keys() and category['default'] else False\n",
    "    print(f\"- {name} [color = {color}, default = {default}]\")\n",
    "    elab.create_experiment_category(name, color, default)\n",
    "print('Done.')\n",
    "print()\n",
    "\n",
    "print(\"Create statuses:\")\n",
    "for status in config['statuses']:\n",
    "    name = status['name']\n",
    "    color = status['color']\n",
    "    default = True if 'default' in status.keys() and status['default'] else False\n",
    "    print(f\"- {name} [color = {color}, default = {default}]\")\n",
    "    elab.create_experiment_status(name, color, default)\n",
    "print('Done.')\n",
    "print()"
   ]
  },
  {
   "cell_type": "code",
   "execution_count": null,
   "id": "c200e5b3-b8c6-4b73-a65e-6f2e1c5229e4",
   "metadata": {},
   "outputs": [],
   "source": [
    "# Create templates in eLabFTW\n",
    "\n",
    "print(\"Accessing eLabFTW ...\")\n",
    "print()\n",
    "\n",
    "def parse_string(string: str):\n",
    "    parts = string.split('###')\n",
    "    for idx, part in list(enumerate(parts))[1::2]:\n",
    "        key, value = part.split('=', 1)\n",
    "        value = eval(f\"f'{value}'\")\n",
    "        if key == 'group':\n",
    "            id = elab.get_groupid(value)\n",
    "        elif key == 'category':\n",
    "            id = elab.get_experiment_categoryid(value)\n",
    "        elif key == 'status':\n",
    "            id = elab.get_experiment_statusid(value)\n",
    "        else:\n",
    "            continue\n",
    "        if id is None:\n",
    "            raise Exception(f'Error: {key}={value} could not be resolved')\n",
    "        parts[idx] = str(id)\n",
    "    return ''.join(parts)\n",
    "\n",
    "print(\"Create templates:\")\n",
    "for key, template in config['templates'].items():\n",
    "    with open(template['file'], 'r', encoding='utf8') as f:\n",
    "        template_json = f.read()\n",
    "    template_json = json.loads(parse_string(template_json))\n",
    "    templateid = elab.create_template(template_json)\n",
    "    print(f\"- {key}: {template['name']} [file: {template['file']}] >> elabftw_templateid = {templateid}\")\n",
    "print('Done.')"
   ]
  },
  {
   "cell_type": "code",
   "execution_count": null,
   "id": "49a44102",
   "metadata": {},
   "outputs": [],
   "source": [
    "# Read group, user and template ids from eLabFTW and seek the groupid of the tutors user group\n",
    "# The ids are required for the generation of all experiments and for assigning user rights\n",
    "\n",
    "groups = elab.get_groups()\n",
    "team = elab.get_currentteam()\n",
    "print(f\"User groups in the eLabFTW team '{team.name}':\")\n",
    "\n",
    "tutors_groupid = None\n",
    "for group in groups:\n",
    "    print(f\"- {group.name} [elabftw_groupid = {group.id}]\")\n",
    "    if group.name == GROUPNAME_PREFIX + ' ' + GROUPNAME_TUTORS:\n",
    "        tutors_groupid = group.id\n",
    "print()\n",
    "\n",
    "# Load templates from eLabFTW\n",
    "print('Templates:')\n",
    "\n",
    "templates = {}\n",
    "for key, template in config['templates'].items():\n",
    "    templates[key] = elab.get_templateid(template['name'])\n",
    "    print(f\"- {key}: {template['name']} [elabftw_templateid = {templates[key]}]\")"
   ]
  },
  {
   "cell_type": "code",
   "execution_count": null,
   "id": "f01d7f74",
   "metadata": {},
   "outputs": [],
   "source": [
    "# Create lab course structure and experiments in eLabFTW\n",
    "\n",
    "# Helper function that creates an experiment and fills in the metadata\n",
    "def create_and_configure_experiment(templateid, title, tags, groups_readaccess, groups_writeaccess, groupnumber, users):\n",
    "    # Create experiment\n",
    "    eid = elab.create_experiment_from_template(templateid=templateid,\n",
    "                                               title=title,\n",
    "                                               tags=tags,\n",
    "                                               groups_readaccess=groups_readaccess,\n",
    "                                               groups_writeaccess=groups_writeaccess)\n",
    "    # Add group number to metadata\n",
    "    elab.update_experiment_metadata(eid, 'Group number', groupnumber)\n",
    "    # Link users as group members in the metadata\n",
    "    for idx in range(len(users)):\n",
    "        elab.update_experiment_metadata(eid, 'Student '+str(idx+1), users[idx].userid)\n",
    "    return eid\n",
    "\n",
    "# Create experiments for all groups (in reverse order for meaningful presentation in to-do list)\n",
    "keyword_studentgroup = GROUPNAME_PREFIX + ' G'\n",
    "for group in groups:\n",
    "    if group.name.startswith(keyword_studentgroup):\n",
    "        groupnumber = int(group.name[len(keyword_studentgroup)+1:])\n",
    "        if limitgroups is None or groupnumber in limitgroups:\n",
    "            print(group.name)\n",
    "            grouptag = group.name.replace(\" \", \"_\")\n",
    "            for pkey, labcourseday in reversed(config['labcoursedays'].items()):\n",
    "                if limitlabcoursedays is None or pkey in limitlabcoursedays:\n",
    "                    print(f\"- {labcourseday['name']}\")\n",
    "                    eids = []\n",
    "                    for ekey, experiment in reversed(labcourseday['experiments'].items()):\n",
    "                        if limitexperiments is None or ekey in limitexperiments:\n",
    "                            eid = create_and_configure_experiment(templateid=templates[experiment['template']],\n",
    "                                                                  title=experiment['name'],\n",
    "                                                                  tags=[labcourseday['tag'], grouptag],\n",
    "                                                                  groups_readaccess=[group.id, tutors_groupid],\n",
    "                                                                  groups_writeaccess=[group.id],\n",
    "                                                                  groupnumber=groupnumber,\n",
    "                                                                  users=group.users)\n",
    "                            eids.append(eid)\n",
    "                            print('-- ' + experiment['name'] + ' => Done.')\n",
    "                    pid = create_and_configure_experiment(templateid=templates[labcourseday['template']],\n",
    "                                                          title=labcourseday['name'],\n",
    "                                                          tags=[labcourseday['tag'], grouptag],\n",
    "                                                          groups_readaccess=[group.id, tutors_groupid],\n",
    "                                                          groups_writeaccess=[group.id],\n",
    "                                                          groupnumber=groupnumber,\n",
    "                                                          users=group.users)\n",
    "                    for eid in reversed(eids):\n",
    "                        elab.link_experiment_to_experiment(pid, eid)\n",
    "                    print('=> Done.')\n",
    "            print()\n",
    "print('Done.')"
   ]
  },
  {
   "cell_type": "markdown",
   "id": "42e8e6ec",
   "metadata": {},
   "source": [
    "# Other functions\n",
    "\n",
    "## List experiments"
   ]
  },
  {
   "cell_type": "code",
   "execution_count": null,
   "id": "3489e139",
   "metadata": {},
   "outputs": [],
   "source": [
    "# Show all experiments matching a query string\n",
    "query = ''\n",
    "experiments = elab.get_experiments(query)\n",
    "for experiment in experiments:\n",
    "    print(f\"{(str(experiment.id))}: {experiment.title}\")"
   ]
  },
  {
   "cell_type": "markdown",
   "id": "4f150d73",
   "metadata": {},
   "source": [
    "## Delete experiments\n",
    "\n",
    "!!! ATTENTION !!!"
   ]
  },
  {
   "cell_type": "code",
   "execution_count": null,
   "id": "6f4f7031",
   "metadata": {},
   "outputs": [],
   "source": [
    "# ATTENTION!!!! \n",
    "# By executing this cell, all experiments retrieved in the previous cell (i.e. in the variable experiments) will be deleted!\n",
    "\n",
    "for experiment in experiments:\n",
    "    elab.delete_experiment(experiment.id)\n",
    "    print(f\"Deleted => {(str(experiment.id))}: {experiment.title}\")\n",
    "print('Done.')"
   ]
  },
  {
   "cell_type": "markdown",
   "id": "ae25fc6d",
   "metadata": {},
   "source": [
    "## List all users in the team"
   ]
  },
  {
   "cell_type": "code",
   "execution_count": null,
   "id": "3318af8e",
   "metadata": {},
   "outputs": [],
   "source": [
    "# Show all users in the team\n",
    "teamid = elab.get_currentteam().id\n",
    "users = elab.get_users()\n",
    "\n",
    "teamusers = []\n",
    "for user in users:\n",
    "    try:\n",
    "        user = elab.get_user(user.userid)\n",
    "        if teamid in [x.id for x in user.teams]:\n",
    "            teamusers.append(user)\n",
    "            print(f'{user.userid}: {user.fullname}, {user.firstname}')\n",
    "    except:\n",
    "        pass\n",
    "    \n",
    "print()\n",
    "print(f'Done. Found {len(teamusers)} users in team.')"
   ]
  },
  {
   "cell_type": "code",
   "execution_count": null,
   "id": "266ad9ee",
   "metadata": {},
   "outputs": [],
   "source": [
    "# Display the users retrieved in the cell above (i.e. in the variable teamusers) in alphabetical order\n",
    "teamusers = sorted(teamusers, key=lambda x:x.lastname)\n",
    "for user in teamusers:\n",
    "    print(f'{user.lastname}, {user.firstname}')"
   ]
  },
  {
   "cell_type": "markdown",
   "id": "4f4f27b0",
   "metadata": {},
   "source": [
    "## List all groups in the team"
   ]
  },
  {
   "cell_type": "code",
   "execution_count": null,
   "id": "174b2697",
   "metadata": {},
   "outputs": [],
   "source": [
    "elab.get_groups()"
   ]
  },
  {
   "cell_type": "code",
   "execution_count": null,
   "id": "7a02033b",
   "metadata": {},
   "outputs": [],
   "source": []
  }
 ],
 "metadata": {
  "kernelspec": {
   "display_name": "Python 3 (ipykernel)",
   "language": "python",
   "name": "python3"
  },
  "language_info": {
   "codemirror_mode": {
    "name": "ipython",
    "version": 3
   },
   "file_extension": ".py",
   "mimetype": "text/x-python",
   "name": "python",
   "nbconvert_exporter": "python",
   "pygments_lexer": "ipython3",
   "version": "3.11.7"
  }
 },
 "nbformat": 4,
 "nbformat_minor": 5
}
